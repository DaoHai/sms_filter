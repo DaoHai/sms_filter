{
 "cells": [
  {
   "cell_type": "raw",
   "metadata": {},
   "source": [
    "http://radimrehurek.com/data_science_python/\n",
    "\n",
    "# DataSet Description:  \n",
    "The raw dataset contains number of properties related to SMS\n",
    "1. SMS content\n",
    "2. Contain link or not (1 or 0 respectively)\n",
    "3. Contain a phone number or not (at least ten consecutive digits)"
   ]
  },
  {
   "cell_type": "code",
   "execution_count": 73,
   "metadata": {
    "collapsed": true
   },
   "outputs": [],
   "source": [
    "%matplotlib inline\n",
    "import matplotlib.pyplot as plt\n",
    "#import csv\n",
    "from textblob import TextBlob\n",
    "import pandas as pd\n",
    "import sklearn\n",
    "import cPickle\n",
    "import numpy as np\n",
    "from sklearn.feature_extraction.text import CountVectorizer, TfidfTransformer\n",
    "from sklearn.naive_bayes import MultinomialNB\n",
    "from sklearn.svm import SVC, LinearSVC\n",
    "from sklearn.tree import DecisionTreeClassifier \n",
    "from sklearn.ensemble import RandomForestClassifier\n",
    "\n",
    "from sklearn.metrics import classification_report, f1_score, accuracy_score, confusion_matrix\n",
    "from sklearn.pipeline import Pipeline\n",
    "from sklearn.grid_search import GridSearchCV\n",
    "from sklearn.cross_validation import KFold, cross_val_score, train_test_split \n",
    "\n",
    "from sklearn import cross_validation\n",
    "from sklearn.learning_curve import learning_curve\n",
    "from sklearn.feature_extraction.text import TfidfVectorizer\n",
    "from sklearn.feature_selection import SelectPercentile, f_classif\n",
    "from time import time"
   ]
  },
  {
   "cell_type": "markdown",
   "metadata": {},
   "source": [
    "Load File (Dataset) into DataFrame "
   ]
  },
  {
   "cell_type": "code",
   "execution_count": 10,
   "metadata": {
    "collapsed": true
   },
   "outputs": [],
   "source": [
    "xls_file = pd.ExcelFile('SMSlist.xlsx')\n",
    "df = xls_file.parse('Sheet1')"
   ]
  },
  {
   "cell_type": "code",
   "execution_count": 11,
   "metadata": {
    "collapsed": false
   },
   "outputs": [
    {
     "name": "stdout",
     "output_type": "stream",
     "text": [
      "                                          smscontent stamp  link  numbercounts\n",
      "0  Viettel khuyen mai 50% danh cho thue bao tra t...  spam     1             0\n",
      "1  http://www.smscaster.com VASCARA khuyen mai: g...  spam     0             1\n",
      "2                 hom nay anh co an com o nha khong?   ham     0             0\n",
      "3  A/C than, 9/5 toi Danh ca KHANH LY voi cac ca ...  spam     0             1\n",
      "4  IVY moda: chuong trinh \"Summer First Sale\" GG ...  spam     1             0\n",
      "<class 'pandas.core.frame.DataFrame'>\n",
      "                                          smscontent    stamp  link  \\\n",
      "0  Viettel khuyen mai 50% danh cho thue bao tra t...     spam     1   \n",
      "1  http://www.smscaster.com VASCARA khuyen mai: g...     spam     0   \n",
      "2                 hom nay anh co an com o nha khong?  notspam     0   \n",
      "3  A/C than, 9/5 toi Danh ca KHANH LY voi cac ca ...     spam     0   \n",
      "4  IVY moda: chuong trinh \"Summer First Sale\" GG ...     spam     1   \n",
      "\n",
      "   numbercounts  \n",
      "0             0  \n",
      "1             1  \n",
      "2             0  \n",
      "3             1  \n",
      "4             0  \n"
     ]
    }
   ],
   "source": [
    "print df.head()\n",
    "print type(df)\n",
    "\n",
    "df['stamp'] = df['stamp'].map({'ham': 'notspam', 'spam': 'spam'})\n",
    "print df.head()"
   ]
  },
  {
   "cell_type": "code",
   "execution_count": 13,
   "metadata": {
    "collapsed": false
   },
   "outputs": [
    {
     "name": "stdout",
     "output_type": "stream",
     "text": [
      "                                          smscontent    stamp  link  \\\n",
      "0  Viettel khuyen mai 50% danh cho thue bao tra t...     spam     1   \n",
      "1  http://www.smscaster.com VASCARA khuyen mai: g...     spam     0   \n",
      "2                 hom nay anh co an com o nha khong?  notspam     0   \n",
      "3  A/C than, 9/5 toi Danh ca KHANH LY voi cac ca ...     spam     0   \n",
      "4  IVY moda: chuong trinh \"Summer First Sale\" GG ...     spam     1   \n",
      "\n",
      "   numbercounts  length     ratio  \n",
      "0            12     160  0.115385  \n",
      "1            21     152  0.230769  \n",
      "2             0      34  0.000000  \n",
      "3            12     163  0.112150  \n",
      "4            11     119  0.142857  \n"
     ]
    }
   ],
   "source": [
    "#Pre-processing: Add features: Text Length and Numeric/Alphabet ratio\n",
    "\n",
    "df['length'] = df['smscontent'].map(lambda text: len(text))\n",
    "df['ratio']= df['smscontent'].map(lambda s: sum(c.isdigit() for c in s)/(sum(c.isalpha() for c in s)*1.0))\n",
    "df['numbercounts'] = df['smscontent'].map(lambda s: sum(c.isdigit() for c in s))\n",
    "print df.head()"
   ]
  },
  {
   "cell_type": "code",
   "execution_count": 14,
   "metadata": {
    "collapsed": false
   },
   "outputs": [
    {
     "data": {
      "text/plain": [
       "count     99.000000\n",
       "mean     108.888889\n",
       "std       53.266540\n",
       "min       14.000000\n",
       "25%       53.000000\n",
       "50%      132.000000\n",
       "75%      157.500000\n",
       "max      188.000000\n",
       "Name: length, dtype: float64"
      ]
     },
     "execution_count": 14,
     "metadata": {},
     "output_type": "execute_result"
    },
    {
     "data": {
      "image/png": "[encoded data removed]",
      "text/plain": [
       "<matplotlib.figure.Figure at 0x7ff461bc5090>"
      ]
     },
     "metadata": {},
     "output_type": "display_data"
    }
   ],
   "source": [
    "#Little move into the data\n",
    "df.length.plot(bins=10, kind='hist')\n",
    "df.length.describe()"
   ]
  },
  {
   "cell_type": "code",
   "execution_count": 15,
   "metadata": {
    "collapsed": false
   },
   "outputs": [
    {
     "data": {
      "text/plain": [
       "count    99.000000\n",
       "mean      0.297848\n",
       "std       1.094520\n",
       "min       0.000000\n",
       "25%       0.000000\n",
       "50%       0.121212\n",
       "75%       0.232732\n",
       "max       8.818182\n",
       "Name: ratio, dtype: float64"
      ]
     },
     "execution_count": 15,
     "metadata": {},
     "output_type": "execute_result"
    },
    {
     "data": {
      "image/png": "[encoded data removed]",
      "text/plain": [
       "<matplotlib.figure.Figure at 0x7ff42c602410>"
      ]
     },
     "metadata": {},
     "output_type": "display_data"
    }
   ],
   "source": [
    "df.ratio.plot(bins=5, kind= 'hist')\n",
    "df.ratio.describe()"
   ]
  },
  {
   "cell_type": "code",
   "execution_count": 110,
   "metadata": {
    "collapsed": false
   },
   "outputs": [
    {
     "name": "stdout",
     "output_type": "stream",
     "text": [
      "[u'INTERNET FPT chinh thuc cung cap dich vu INTERNET CAP QUANG toc do cao toi ho gia dinh. Nhan dip nay nhieu uu dai lon: mien phi lap dat, tang modem wifi\\u2026 LH Ms Hanh tu van 24/7 xin cam on.']\n"
     ]
    }
   ],
   "source": [
    "#print length messages\n",
    "print list(df.smscontent[df.length > 170])"
   ]
  },
  {
   "cell_type": "code",
   "execution_count": 18,
   "metadata": {
    "collapsed": false
   },
   "outputs": [
    {
     "name": "stdout",
     "output_type": "stream",
     "text": [
      "[u'ban 091564198=3,5tr va 0912721866 0911703799 01242588886 01236137979=599k. LH 0914282626', u'Ban 0956666156=3,5 tr va 01229926699=650k 0888118999=1.4 0888180995=1.4 0888553919=1.4 0925666458=1.1 0888180695=1.4. Goi 01298212121']\n"
     ]
    }
   ],
   "source": [
    "#print message with lot of numerics\n",
    "print list(df.smscontent[df.ratio > 5])"
   ]
  },
  {
   "cell_type": "code",
   "execution_count": 19,
   "metadata": {
    "collapsed": false
   },
   "outputs": [
    {
     "data": {
      "text/plain": [
       "array([<matplotlib.axes._subplots.AxesSubplot object at 0x7ff428d24f90>,\n",
       "       <matplotlib.axes._subplots.AxesSubplot object at 0x7ff428c41090>], dtype=object)"
      ]
     },
     "execution_count": 19,
     "metadata": {},
     "output_type": "execute_result"
    },
    {
     "data": {
      "image/png": "[encoded data removed]",
      "text/plain": [
       "<matplotlib.figure.Figure at 0x7ff428d24e10>"
      ]
     },
     "metadata": {},
     "output_type": "display_data"
    }
   ],
   "source": [
    "#Is there any difference in message length between spam and notspam\n",
    "df.hist(column='length', by='stamp', bins=10)"
   ]
  },
  {
   "cell_type": "code",
   "execution_count": 20,
   "metadata": {
    "collapsed": false
   },
   "outputs": [
    {
     "data": {
      "text/plain": [
       "count    99.000000\n",
       "mean     12.929293\n",
       "std      15.415505\n",
       "min       0.000000\n",
       "25%       0.000000\n",
       "50%      10.000000\n",
       "75%      20.500000\n",
       "max      97.000000\n",
       "Name: numbercounts, dtype: float64"
      ]
     },
     "execution_count": 20,
     "metadata": {},
     "output_type": "execute_result"
    },
    {
     "data": {
      "image/png": "[encoded data removed]",
      "text/plain": [
       "<matplotlib.figure.Figure at 0x7ff428bb6e90>"
      ]
     },
     "metadata": {},
     "output_type": "display_data"
    }
   ],
   "source": [
    "#Is there any difference in numeric counts between spam and notspam\n",
    "df.hist(column='numbercounts', by='stamp', bins=5)\n",
    "df.numbercounts.describe()"
   ]
  },
  {
   "cell_type": "markdown",
   "metadata": {},
   "source": [
    "Function for Text Processing: Simple Operations include converting upper-case to lower-case, tokenize the text based on single unigram"
   ]
  },
  {
   "cell_type": "code",
   "execution_count": 21,
   "metadata": {
    "collapsed": true
   },
   "outputs": [],
   "source": [
    "def features(message):\n",
    "    message = unicode(message).lower() #upper-case into lower-case\n",
    "    words = TextBlob(message).words #tokenize the message in single unigram\n",
    "    d={}\n",
    "    for m in words:\n",
    "        d[m] = d.get(m, 0) + 1\n",
    "    return d"
   ]
  },
  {
   "cell_type": "code",
   "execution_count": 22,
   "metadata": {
    "collapsed": false
   },
   "outputs": [
    {
     "data": {
      "text/plain": [
       "0    {u'thoai': 1, u'ngay': 1, u'truoc': 1, u'thue'...\n",
       "1    {u'tat': 1, u'www.smscaster.com': 1, u'san': 1...\n",
       "2    {u'co': 1, u'hom': 1, u'anh': 1, u'o': 1, u'an...\n",
       "3    {u'hoai': 1, u'a/c': 3, u've': 2, u'sac': 1, u...\n",
       "4    {u'1.5': 1, u'san': 1, u'summer': 1, u'gg': 1,...\n",
       "5    {u'em': 1, u'goi': 1, u'vao': 1, u'anh': 1, u'...\n",
       "6    {u'em': 1, u'chua': 1, u'an': 1, u'com': 1, u'...\n",
       "7    {u'em': 1, u'co': 1, u'toi': 1, u'khong': 1, u...\n",
       "8    {u'a': 1, u'lam': 1, u'toan': 1, u'oi': 1, u'i...\n",
       "9    {u'sodep86.com': 1, u'nha': 1, u'lien': 1, u'r...\n",
       "Name: smscontent, dtype: object"
      ]
     },
     "execution_count": 22,
     "metadata": {},
     "output_type": "execute_result"
    }
   ],
   "source": [
    "df.smscontent.head(10).apply(features)"
   ]
  },
  {
   "cell_type": "markdown",
   "metadata": {},
   "source": [
    "Split the data into training and testing and create the model based on the training data"
   ]
  },
  {
   "cell_type": "code",
   "execution_count": 115,
   "metadata": {
    "collapsed": true
   },
   "outputs": [],
   "source": [
    "msg_train, msg_test, label_train, label_test = train_test_split(df['smscontent'], df['stamp'], test_size = 0.2)\n"
   ]
  },
  {
   "cell_type": "code",
   "execution_count": 116,
   "metadata": {
    "collapsed": false
   },
   "outputs": [
    {
     "name": "stdout",
     "output_type": "stream",
     "text": [
      "CountVectorizer(analyzer=<function features at 0x7ff428b9b668>, binary=False,\n",
      "        decode_error=u'strict', dtype=<type 'numpy.int64'>,\n",
      "        encoding=u'utf-8', input=u'content', lowercase=True, max_df=1.0,\n",
      "        max_features=None, min_df=1, ngram_range=(1, 1), preprocessor=None,\n",
      "        stop_words=None, strip_accents=None,\n",
      "        token_pattern=u'(?u)\\\\b\\\\w\\\\w+\\\\b', tokenizer=None,\n",
      "        vocabulary=None)\n",
      "692\n",
      "cau\n"
     ]
    }
   ],
   "source": [
    "transformer = CountVectorizer(analyzer=features).fit(msg_train)\n",
    "print transformer\n",
    "print len(transformer.vocabulary_)\n",
    "print transformer.get_feature_names()[200]"
   ]
  },
  {
   "cell_type": "code",
   "execution_count": 117,
   "metadata": {
    "collapsed": false
   },
   "outputs": [
    {
     "name": "stdout",
     "output_type": "stream",
     "text": [
      "sparse matrix shape: (79, 692)\n",
      "number of non-zeros: 1613\n",
      "sparsity: 2.95%\n",
      "sparse matrix shape: (79, 692)\n",
      "number of non-zeros: 1613\n",
      "sparsity: 2.95%\n"
     ]
    }
   ],
   "source": [
    "messages= transformer.transform(msg_train)\n",
    "print 'sparse matrix shape:', messages.shape\n",
    "print 'number of non-zeros:', messages.nnz\n",
    "print 'sparsity: %.2f%%' % (100.0 * messages.nnz / (messages.shape[0] * messages.shape[1]))\n",
    "print 'sparse matrix shape:', messages.shape\n",
    "print 'number of non-zeros:', messages.nnz\n",
    "print 'sparsity: %.2f%%' % (100.0 * messages.nnz / (messages.shape[0] * messages.shape[1]))"
   ]
  },
  {
   "cell_type": "markdown",
   "metadata": {},
   "source": [
    "Text Learning based on TF-IDF"
   ]
  },
  {
   "cell_type": "code",
   "execution_count": 118,
   "metadata": {
    "collapsed": false
   },
   "outputs": [
    {
     "name": "stdout",
     "output_type": "stream",
     "text": [
      "TfidfTransformer(norm=u'l2', smooth_idf=True, sublinear_tf=False,\n",
      "         use_idf=True)\n",
      "  (0, 654)\t0.205183572676\n",
      "  (0, 645)\t0.240777152316\n",
      "  (0, 635)\t0.193724999393\n",
      "  (0, 549)\t0.144658836146\n",
      "  (0, 533)\t0.144658836146\n",
      "  (0, 528)\t0.205183572676\n",
      "  (0, 505)\t0.240777152316\n",
      "  (0, 476)\t0.205183572676\n",
      "  (0, 450)\t0.15323717713\n",
      "  (0, 442)\t0.21995624296\n",
      "  (0, 388)\t0.130883297791\n",
      "  (0, 374)\t0.240777152316\n",
      "  (0, 304)\t0.21995624296\n",
      "  (0, 298)\t0.184362663321\n",
      "  (0, 295)\t0.133996413397\n",
      "  (0, 248)\t0.169589993037\n",
      "  (0, 239)\t0.169589993037\n",
      "  (0, 237)\t0.15323717713\n",
      "  (0, 216)\t0.193724999393\n",
      "  (0, 211)\t0.184362663321\n",
      "  (0, 198)\t0.158131419753\n",
      "  (0, 194)\t0.193724999393\n",
      "  (0, 124)\t0.205183572676\n",
      "  (0, 72)\t0.240777152316\n",
      "  (0, 36)\t0.240777152316\n",
      "  :\t:\n",
      "  (78, 556)\t0.180881216541\n",
      "  (78, 535)\t0.164748658244\n",
      "  (78, 523)\t0.205373353657\n",
      "  (78, 489)\t0.131514899016\n",
      "  (78, 417)\t0.138905835201\n",
      "  (78, 415)\t0.147647457313\n",
      "  (78, 409)\t0.172139594429\n",
      "  (78, 392)\t0.224813856563\n",
      "  (78, 376)\t0.158346338107\n",
      "  (78, 319)\t0.180881216541\n",
      "  (78, 308)\t0.147647457313\n",
      "  (78, 263)\t0.180881216541\n",
      "  (78, 255)\t0.122205859871\n",
      "  (78, 254)\t0.147647457313\n",
      "  (78, 233)\t0.164748658244\n",
      "  (78, 228)\t0.112074396109\n",
      "  (78, 212)\t0.138905835201\n",
      "  (78, 190)\t0.164748658244\n",
      "  (78, 189)\t0.172139594429\n",
      "  (78, 181)\t0.152699091522\n",
      "  (78, 174)\t0.164748658244\n",
      "  (78, 171)\t0.116873015591\n",
      "  (78, 170)\t0.191580097335\n",
      "  (78, 154)\t0.224813856563\n",
      "  (78, 92)\t0.205373353657\n"
     ]
    }
   ],
   "source": [
    "tfidf_transformer = TfidfTransformer().fit(messages)\n",
    "messages_tfidf = tfidf_transformer.transform(messages)\n",
    "print tfidf_transformer\n",
    "print messages_tfidf"
   ]
  },
  {
   "cell_type": "markdown",
   "metadata": {},
   "source": [
    "All about Machine Learning as Classifier"
   ]
  },
  {
   "cell_type": "code",
   "execution_count": 119,
   "metadata": {
    "collapsed": false
   },
   "outputs": [
    {
     "name": "stdout",
     "output_type": "stream",
     "text": [
      "training time: 0.003 s\n"
     ]
    }
   ],
   "source": [
    "\n",
    "#spam_detector = MultinomialNB().fit(messages_tfidf, label_train) #effective training (apart from pre-processing)\n",
    "t0 = time()\n",
    "spam_detector = LinearSVC().fit(messages_tfidf, label_train)\n",
    "print \"training time:\", round(time()-t0, 3), \"s\"\n",
    "#spam_detector = DecisionTreeClassifier().fit(messages_tfidf, label_train) \n",
    "#spam_detector = RandomForestClassifier().fit(messages_tfidf, label_train)  \n"
   ]
  },
  {
   "cell_type": "markdown",
   "metadata": {},
   "source": [
    "messages_test= transformer.transform(msg_test)\n",
    "messages_test_tfidf= tfidf_transformer.transform(messages_test)\n",
    "print messages_test_tfidf\n",
    "predicted_test = spam_detector.predict(messages_test_tfidf)\n",
    "print predicted_test"
   ]
  },
  {
   "cell_type": "markdown",
   "metadata": {},
   "source": [
    "Test on test set\n"
   ]
  },
  {
   "cell_type": "code",
   "execution_count": 120,
   "metadata": {
    "collapsed": false
   },
   "outputs": [
    {
     "name": "stdout",
     "output_type": "stream",
     "text": [
      "prediction time: 0.00028 s\n",
      "['spam' 'notspam' 'spam' 'spam' 'spam' 'notspam' 'spam' 'spam' 'spam'\n",
      " 'spam' 'spam' 'notspam' 'notspam' 'notspam' 'spam' 'spam' 'notspam'\n",
      " 'notspam' 'notspam' 'spam']\n"
     ]
    },
    {
     "data": {
      "text/plain": [
       "60     True\n",
       "88     True\n",
       "77     True\n",
       "11     True\n",
       "35     True\n",
       "27     True\n",
       "71     True\n",
       "42     True\n",
       "75     True\n",
       "66     True\n",
       "62     True\n",
       "80     True\n",
       "95     True\n",
       "17     True\n",
       "9      True\n",
       "72     True\n",
       "85     True\n",
       "48    False\n",
       "25     True\n",
       "18     True\n",
       "Name: stamp, dtype: bool"
      ]
     },
     "execution_count": 120,
     "metadata": {},
     "output_type": "execute_result"
    }
   ],
   "source": [
    "messages_test= transformer.transform(msg_test)\n",
    "t1=time()\n",
    "predictions = spam_detector.predict(messages_test)\n",
    "print \"prediction time:\", round(time()-t1, 5), \"s\"\n",
    "\n",
    "print predictions\n",
    "predictions == label_test"
   ]
  },
  {
   "cell_type": "markdown",
   "metadata": {},
   "source": [
    "Evaluation on Test Set"
   ]
  },
  {
   "cell_type": "code",
   "execution_count": 121,
   "metadata": {
    "collapsed": false
   },
   "outputs": [
    {
     "name": "stdout",
     "output_type": "stream",
     "text": [
      "Accuracy:  0.95\n",
      "[[ 7  0]\n",
      " [ 1 12]]\n",
      "(row=expected, col=predicted)\n",
      "             precision    recall  f1-score   support\n",
      "\n",
      "    notspam       0.88      1.00      0.93         7\n",
      "       spam       1.00      0.92      0.96        13\n",
      "\n",
      "avg / total       0.96      0.95      0.95        20\n",
      "\n"
     ]
    }
   ],
   "source": [
    "print \"Accuracy: \", spam_detector.score(messages_test, label_test)\n",
    "predictions = spam_detector.predict(messages_test)\n",
    "print confusion_matrix(label_test, predictions)\n",
    "print '(row=expected, col=predicted)'\n",
    "print classification_report(label_test, predictions)"
   ]
  },
  {
   "cell_type": "markdown",
   "metadata": {},
   "source": [
    "Predict a new message"
   ]
  },
  {
   "cell_type": "code",
   "execution_count": 122,
   "metadata": {
    "collapsed": false
   },
   "outputs": [
    {
     "data": {
      "text/plain": [
       "array(['spam', 'notspam'], dtype=object)"
      ]
     },
     "execution_count": 122,
     "metadata": {},
     "output_type": "execute_result"
    }
   ],
   "source": [
    "examples = ['Ban chung cu cao cap gia re', 'toi nay di choi de']\n",
    "example_counts = transformer.transform(examples)\n",
    "predictions = spam_detector.predict(example_counts)\n",
    "predictions\n"
   ]
  },
  {
   "cell_type": "markdown",
   "metadata": {},
   "source": [
    "Performance Evaluation and Parameter Tuning: remain to be seen!"
   ]
  },
  {
   "cell_type": "markdown",
   "metadata": {},
   "source": [
    "Produce a predictor: The final (optimal found via parameter tuning) predictor can be serialized to disk, so that the next time we want to use it, we can skip all training and use the trained model directly. Interesting!\n",
    "\n"
   ]
  },
  {
   "cell_type": "code",
   "execution_count": 123,
   "metadata": {
    "collapsed": true
   },
   "outputs": [],
   "source": [
    "# store the spam detector to disk after training\n",
    "with open('spam_detector.pkl', 'wb') as fout:\n",
    "    cPickle.dump(spam_detector, fout)\n",
    "\n",
    "# ...and load it back, whenever needed, possibly on a different machine\n",
    "spam_detector_reloaded = cPickle.load(open('spam_detector.pkl')) "
   ]
  },
  {
   "cell_type": "code",
   "execution_count": 124,
   "metadata": {
    "collapsed": false
   },
   "outputs": [
    {
     "name": "stdout",
     "output_type": "stream",
     "text": [
      "before: ['spam' 'notspam']\n",
      "prediction time: 0.001 s\n",
      "after: ['spam' 'notspam']\n"
     ]
    }
   ],
   "source": [
    "t1 = time()\n",
    "print 'before:', spam_detector.predict(example_counts)\n",
    "print \"prediction time:\", round(time()-t1, 3), \"s\"\n",
    "print 'after:', spam_detector_reloaded.predict(example_counts)"
   ]
  },
  {
   "cell_type": "markdown",
   "metadata": {},
   "source": [
    "Parameter Tuning using GridSearchCV"
   ]
  },
  {
   "cell_type": "code",
   "execution_count": 125,
   "metadata": {
    "collapsed": false
   },
   "outputs": [
    {
     "name": "stdout",
     "output_type": "stream",
     "text": [
      "training time for grid of parameters 0.061 s\n",
      "best parameters found {'kernel': 'linear', 'C': 10}\n"
     ]
    },
    {
     "data": {
      "text/plain": [
       "array(['notspam', 'notspam'], dtype=object)"
      ]
     },
     "execution_count": 125,
     "metadata": {},
     "output_type": "execute_result"
    }
   ],
   "source": [
    "parameters = {'kernel':('linear', 'rbf'), 'C':[1, 10]}\n",
    "svr = SVC()\n",
    "clf = GridSearchCV(svr, parameters)\n",
    "t1 = time()\n",
    "clf.fit(messages_tfidf, label_train)\n",
    "print \"training time for grid of parameters\", round(time() -t1, 3), \"s\"\n",
    "print \"best parameters found\", clf.best_params_\n",
    "\n",
    "clf.predict(example_counts)"
   ]
  },
  {
   "cell_type": "markdown",
   "metadata": {},
   "source": [
    "K-fold cross-validation"
   ]
  },
  {
   "cell_type": "code",
   "execution_count": 126,
   "metadata": {
    "collapsed": false
   },
   "outputs": [
    {
     "name": "stdout",
     "output_type": "stream",
     "text": [
      "sklearn.cross_validation.KFold(n=99, n_folds=5, shuffle=True, random_state=None)\n"
     ]
    }
   ],
   "source": [
    "cv = KFold( len(df['smscontent']), 5, shuffle=True )\n",
    "print cv"
   ]
  },
  {
   "cell_type": "code",
   "execution_count": 127,
   "metadata": {
    "collapsed": false,
    "scrolled": true
   },
   "outputs": [
    {
     "name": "stdout",
     "output_type": "stream",
     "text": [
      "training time: 0.157 s\n",
      "prediction time: 0.00011 s\n",
      "accuracy 1.0\n",
      "training time: 0.13 s\n",
      "prediction time: 0.00012 s\n",
      "accuracy 0.9\n",
      "training time: 0.128 s\n",
      "prediction time: 0.00012 s\n",
      "accuracy 0.95\n",
      "training time: 0.133 s\n",
      "prediction time: 0.00012 s\n",
      "accuracy 0.95\n",
      "training time: 0.134 s\n",
      "prediction time: 0.00015 s\n",
      "accuracy 0.947368421053\n",
      "mean accuracy 0.949473684211\n",
      "standard deviation 0.0316402912951\n"
     ]
    }
   ],
   "source": [
    "x= list(df['smscontent'])\n",
    "y = list(df['stamp'])\n",
    "\n",
    "accuracy = list()\n",
    "for train_indices, test_indices in cv:\n",
    "    \n",
    "    \n",
    "    msg_train = [x[ii] for ii in train_indices]\n",
    "    msg_test = [x[ii] for ii in test_indices]\n",
    "    label_test = [y[ii] for ii in test_indices]\n",
    "    label_train = [y[ii] for ii in train_indices]\n",
    "    \n",
    "    ttrain= time()\n",
    "    transformer = CountVectorizer(analyzer=features).fit(msg_train)\n",
    "    messages= transformer.transform(msg_train)\n",
    "    tfidf_transformer = TfidfTransformer().fit(messages)\n",
    "    messages_tfidf = tfidf_transformer.transform(messages)\n",
    "    \n",
    "    spam_detector = LinearSVC().fit(messages_tfidf, label_train)\n",
    "    print \"training time:\", round(time()-ttrain, 3), \"s\"\n",
    "    \n",
    "    messages_test= transformer.transform(msg_test)\n",
    "    ttest=time()\n",
    "    predictions = spam_detector.predict(messages_test)\n",
    "    print \"prediction time:\", round(time()-ttest, 5), \"s\"\n",
    "\n",
    "    print \"accuracy\", spam_detector.score(messages_test, label_test)\n",
    "    accuracy.append(spam_detector.score(messages_test, label_test))\n",
    "    \n",
    "    \n",
    "\n",
    "#print accuracy\n",
    "print \"mean accuracy\", np.asarray(accuracy).mean()\n",
    "print \"standard deviation\", np.asarray(accuracy).std()"
   ]
  },
  {
   "cell_type": "markdown",
   "metadata": {},
   "source": [
    "What could be done next: A lot lot of things!!!"
   ]
  }
 ],
 "metadata": {
  "kernelspec": {
   "display_name": "Python 2",
   "language": "python",
   "name": "python2"
  },
  "language_info": {
   "codemirror_mode": {
    "name": "ipython",
    "version": 2
   },
   "file_extension": ".py",
   "mimetype": "text/x-python",
   "name": "python",
   "nbconvert_exporter": "python",
   "pygments_lexer": "ipython2",
   "version": "2.7.10"
  }
 },
 "nbformat": 4,
 "nbformat_minor": 0
}
